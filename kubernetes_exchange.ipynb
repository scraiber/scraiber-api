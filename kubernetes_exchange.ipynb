{
 "cells": [
  {
   "cell_type": "code",
   "execution_count": 4,
   "id": "676b1438",
   "metadata": {},
   "outputs": [
    {
     "name": "stdout",
     "output_type": "stream",
     "text": [
      "\"level\"=0 \"msg\"=\"discovered CredentialIssuer\" \"name\"=\"pinniped-concierge-config\"\n",
      "\"level\"=0 \"msg\"=\"discovered Concierge operating in impersonation proxy mode\"\n",
      "\"level\"=0 \"msg\"=\"discovered Concierge endpoint\" \"endpoint\"=\"https://161.35.248.164\"\n",
      "\"level\"=0 \"msg\"=\"discovered Concierge certificate authority bundle\" \"roots\"=1\n",
      "\"level\"=0 \"msg\"=\"discovered OIDC issuer\" \"issuer\"=\"https://scraiber.eu.auth0.com/\"\n",
      "\"level\"=0 \"msg\"=\"discovered OIDC audience\" \"audience\"=\"dy4wrYqDLMcBgggBhThnSGvh8fqnz4ho\"\n",
      "\"level\"=0 \"msg\"=\"validated connection to the cluster\"\n"
     ]
    }
   ],
   "source": [
    "!pinniped get kubeconfig \\\n",
    "  --concierge-authenticator-type jwt \\\n",
    "  --concierge-authenticator-name jwt-authenticator \\\n",
    "  --oidc-client-id dy4wrYqDLMcBgggBhThnSGvh8fqnz4ho \\\n",
    "  --oidc-scopes openid,email \\\n",
    "  --oidc-listen-port 12345 \\\n",
    "  > my-cluster.yaml"
   ]
  },
  {
   "cell_type": "code",
   "execution_count": 5,
   "id": "bcec7478",
   "metadata": {},
   "outputs": [
    {
     "name": "stdout",
     "output_type": "stream",
     "text": [
      "apiVersion: v1\r\n",
      "clusters:\r\n",
      "- cluster:\r\n",
      "    certificate-authority-data: LS0tLS1CRUdJTiBDRVJUSUZJQ0FURS0tLS0tCk1JSUJ4VENDQVd5Z0F3SUJBZ0lSQU5zTVdQQzlPRnN2bEx0QUNWUlp3eGN3Q2dZSUtvWkl6ajBFQXdJd01qRXcKTUM0R0ExVUVBeE1uVUdsdWJtbHdaV1FnU1cxd1pYSnpiMjVoZEdsdmJpQlFjbTk0ZVNCVFpYSjJhVzVuSUVOQgpNQ0FYRFRJeU1ESXlNakUwTXpRME1Gb1lEekl4TWpJd01USTVNVFF6T1RRd1dqQXlNVEF3TGdZRFZRUURFeWRRCmFXNXVhWEJsWkNCSmJYQmxjbk52Ym1GMGFXOXVJRkJ5YjNoNUlGTmxjblpwYm1jZ1EwRXdXVEFUQmdjcWhrak8KUFFJQkJnZ3Foa2pPUFFNQkJ3TkNBQVJQQ0FNclNiTGYveXVLc0g1azREdUp0SWNQUkhqdUNCQUJYT01UZ3R1ZApMZ1NScDdQb2UzY1VWMEZZTTVaU2RWamhDWkpLVHR3djlYLysrUHlIUmhMcm8yRXdYekFPQmdOVkhROEJBZjhFCkJBTUNBb1F3SFFZRFZSMGxCQll3RkFZSUt3WUJCUVVIQXdJR0NDc0dBUVVGQndNQk1BOEdBMVVkRXdFQi93UUYKTUFNQkFmOHdIUVlEVlIwT0JCWUVGRXR3L2tMalkrak8zWWdia2FTK3VSQldqd05PTUFvR0NDcUdTTTQ5QkFNQwpBMGNBTUVRQ0lBT0VhZGRxd3BBejZLVmI2bzZVREVQd2lhWnk2bm9uQm9oTWtDVndTazlrQWlBdTk2QjNCbU9uCkJoYU5NL29NUFBtMis5OTZiaFVQRUF3Z1VOcUZlMkVkK0E9PQotLS0tLUVORCBDRVJUSUZJQ0FURS0tLS0tCg==\r\n",
      "    server: https://161.35.248.164\r\n",
      "  name: do-nyc3-tf-k8s-38e9cfb534-pinniped\r\n",
      "contexts:\r\n",
      "- context:\r\n",
      "    cluster: do-nyc3-tf-k8s-38e9cfb534-pinniped\r\n",
      "    user: do-nyc3-tf-k8s-38e9cfb534-admin-pinniped\r\n",
      "  name: do-nyc3-tf-k8s-38e9cfb534-pinniped\r\n",
      "current-context: do-nyc3-tf-k8s-38e9cfb534-pinniped\r\n",
      "kind: Config\r\n",
      "preferences: {}\r\n",
      "users:\r\n",
      "- name: do-nyc3-tf-k8s-38e9cfb534-admin-pinniped\r\n",
      "  user:\r\n",
      "    exec:\r\n",
      "      apiVersion: client.authentication.k8s.io/v1beta1\r\n",
      "      args:\r\n",
      "      - login\r\n",
      "      - oidc\r\n",
      "      - --enable-concierge\r\n",
      "      - --concierge-api-group-suffix=pinniped.dev\r\n",
      "      - --concierge-authenticator-name=jwt-authenticator\r\n",
      "      - --concierge-authenticator-type=jwt\r\n",
      "      - --concierge-endpoint=https://161.35.248.164\r\n",
      "      - --concierge-ca-bundle-data=LS0tLS1CRUdJTiBDRVJUSUZJQ0FURS0tLS0tCk1JSUJ4VENDQVd5Z0F3SUJBZ0lSQU5zTVdQQzlPRnN2bEx0QUNWUlp3eGN3Q2dZSUtvWkl6ajBFQXdJd01qRXcKTUM0R0ExVUVBeE1uVUdsdWJtbHdaV1FnU1cxd1pYSnpiMjVoZEdsdmJpQlFjbTk0ZVNCVFpYSjJhVzVuSUVOQgpNQ0FYRFRJeU1ESXlNakUwTXpRME1Gb1lEekl4TWpJd01USTVNVFF6T1RRd1dqQXlNVEF3TGdZRFZRUURFeWRRCmFXNXVhWEJsWkNCSmJYQmxjbk52Ym1GMGFXOXVJRkJ5YjNoNUlGTmxjblpwYm1jZ1EwRXdXVEFUQmdjcWhrak8KUFFJQkJnZ3Foa2pPUFFNQkJ3TkNBQVJQQ0FNclNiTGYveXVLc0g1azREdUp0SWNQUkhqdUNCQUJYT01UZ3R1ZApMZ1NScDdQb2UzY1VWMEZZTTVaU2RWamhDWkpLVHR3djlYLysrUHlIUmhMcm8yRXdYekFPQmdOVkhROEJBZjhFCkJBTUNBb1F3SFFZRFZSMGxCQll3RkFZSUt3WUJCUVVIQXdJR0NDc0dBUVVGQndNQk1BOEdBMVVkRXdFQi93UUYKTUFNQkFmOHdIUVlEVlIwT0JCWUVGRXR3L2tMalkrak8zWWdia2FTK3VSQldqd05PTUFvR0NDcUdTTTQ5QkFNQwpBMGNBTUVRQ0lBT0VhZGRxd3BBejZLVmI2bzZVREVQd2lhWnk2bm9uQm9oTWtDVndTazlrQWlBdTk2QjNCbU9uCkJoYU5NL29NUFBtMis5OTZiaFVQRUF3Z1VOcUZlMkVkK0E9PQotLS0tLUVORCBDRVJUSUZJQ0FURS0tLS0tCg==\r\n",
      "      - --issuer=https://scraiber.eu.auth0.com/\r\n",
      "      - --client-id=dy4wrYqDLMcBgggBhThnSGvh8fqnz4ho\r\n",
      "      - --scopes=openid,email\r\n",
      "      - --listen-port=12345\r\n",
      "      - --request-audience=dy4wrYqDLMcBgggBhThnSGvh8fqnz4ho\r\n",
      "      command: /usr/local/bin/pinniped\r\n",
      "      env: []\r\n",
      "      installHint: The pinniped CLI does not appear to be installed.  See https://get.pinniped.dev/cli\r\n",
      "        for more details\r\n",
      "      provideClusterInfo: true\r\n"
     ]
    }
   ],
   "source": [
    "!cat my-cluster.yaml"
   ]
  },
  {
   "cell_type": "code",
   "execution_count": 7,
   "id": "22cd4633",
   "metadata": {},
   "outputs": [
    {
     "name": "stdout",
     "output_type": "stream",
     "text": [
      "NAME                       STATUS   AGE\r\n",
      "airflow                    Active   2d4h\r\n",
      "argocd                     Active   114d\r\n",
      "backend                    Active   52d\r\n",
      "cert-manager               Active   85d\r\n",
      "default                    Active   174d\r\n",
      "development                Active   56d\r\n",
      "kube-node-lease            Active   174d\r\n",
      "kube-public                Active   174d\r\n",
      "kube-system                Active   174d\r\n",
      "kubeapps                   Active   2d4h\r\n",
      "kubecost                   Active   77d\r\n",
      "local-user-authenticator   Active   10d\r\n",
      "loft                       Active   9d\r\n",
      "pinniped-concierge         Active   2d4h\r\n",
      "user-accounts              Active   56d\r\n"
     ]
    }
   ],
   "source": [
    "!kubectl --kubeconfig my-cluster.yaml get namespaces"
   ]
  },
  {
   "cell_type": "code",
   "execution_count": 9,
   "id": "ff34398c",
   "metadata": {},
   "outputs": [],
   "source": [
    "from kubernetes.client.rest import ApiException\n",
    "import json\n",
    "from datetime import date\n",
    "import os\n",
    "import json\n",
    "import yaml\n",
    "from kubernetes import client, config\n"
   ]
  },
  {
   "cell_type": "code",
   "execution_count": 12,
   "id": "c58e087d",
   "metadata": {},
   "outputs": [],
   "source": [
    "contexts, _ = config.list_kube_config_contexts(\"/Users/tobiasahsendorf/Documents/scraiber/scraiber-api/chart/scraiber-api/config\")\n",
    "\n",
    "config.load_kube_config(\"/Users/tobiasahsendorf/Documents/scraiber/scraiber-api/chart/scraiber-api/config\", context=\"do-nyc3-tf-k8s-38e9cfb534\")\n",
    "\n",
    "\n"
   ]
  },
  {
   "cell_type": "code",
   "execution_count": 13,
   "id": "561dd1e0",
   "metadata": {},
   "outputs": [],
   "source": [
    "client_corev1api_region = client.CoreV1Api()"
   ]
  },
  {
   "cell_type": "code",
   "execution_count": null,
   "id": "504cfd55",
   "metadata": {},
   "outputs": [],
   "source": [
    "!pinniped get kubeconfig \\\n",
    "  --concierge-authenticator-type jwt \\\n",
    "  --concierge-authenticator-name jwt-authenticator \\\n",
    "  --oidc-client-id dy4wrYqDLMcBgggBhThnSGvh8fqnz4ho \\\n",
    "  --oidc-scopes openid,email \\\n",
    "  --oidc-listen-port 12345 \\\n",
    "  > my-cluster.yaml"
   ]
  },
  {
   "cell_type": "code",
   "execution_count": 19,
   "id": "7a399262",
   "metadata": {},
   "outputs": [
    {
     "ename": "ApiException",
     "evalue": "(404)\nReason: Not Found\nHTTP response headers: HTTPHeaderDict({'Audit-Id': 'cf86832b-93dc-4aba-af46-40285ba0a407', 'Cache-Control': 'no-cache, private', 'Content-Type': 'application/json', 'X-Kubernetes-Pf-Flowschema-Uid': 'b482d70b-591b-4084-a402-543dcdf508ba', 'X-Kubernetes-Pf-Prioritylevel-Uid': 'a5bc4bf9-fbc2-4eeb-a56a-adbd45767f54', 'Date': 'Thu, 24 Feb 2022 20:03:34 GMT', 'Content-Length': '228'})\nHTTP response body: b'{\"kind\":\"Status\",\"apiVersion\":\"v1\",\"metadata\":{},\"status\":\"Failure\",\"message\":\"services \\\\\"pinniped-concierge-api:443\\\\\" not found\",\"reason\":\"NotFound\",\"details\":{\"name\":\"pinniped-concierge-api:443\",\"kind\":\"services\"},\"code\":404}\\n'\n",
     "output_type": "error",
     "traceback": [
      "\u001b[0;31m---------------------------------------------------------------------------\u001b[0m",
      "\u001b[0;31mApiException\u001b[0m                              Traceback (most recent call last)",
      "Input \u001b[0;32mIn [19]\u001b[0m, in \u001b[0;36m<module>\u001b[0;34m\u001b[0m\n\u001b[0;32m----> 1\u001b[0m api_response \u001b[38;5;241m=\u001b[39m \u001b[43mclient_corev1api_region\u001b[49m\u001b[38;5;241;43m.\u001b[39;49m\u001b[43mapi_client\u001b[49m\u001b[38;5;241;43m.\u001b[39;49m\u001b[43mcall_api\u001b[49m\u001b[43m(\u001b[49m\n\u001b[1;32m      2\u001b[0m \u001b[43m    \u001b[49m\u001b[38;5;124;43m'\u001b[39;49m\u001b[38;5;124;43m/api/v1/namespaces/pinniped-concierge/services/pinniped-concierge-api:443/\u001b[39;49m\u001b[38;5;124;43m'\u001b[39;49m\u001b[43m,\u001b[49m\u001b[43m \u001b[49m\u001b[38;5;124;43m'\u001b[39;49m\u001b[38;5;124;43mGET\u001b[39;49m\u001b[38;5;124;43m'\u001b[39;49m\u001b[43m,\u001b[49m\n\u001b[1;32m      3\u001b[0m \u001b[43m    \u001b[49m\u001b[43mauth_settings\u001b[49m\u001b[43m \u001b[49m\u001b[38;5;241;43m=\u001b[39;49m\u001b[43m \u001b[49m\u001b[43m[\u001b[49m\u001b[38;5;124;43m'\u001b[39;49m\u001b[38;5;124;43mBearerToken\u001b[39;49m\u001b[38;5;124;43m'\u001b[39;49m\u001b[43m]\u001b[49m\u001b[43m,\u001b[49m\u001b[43m \u001b[49m\u001b[43mresponse_type\u001b[49m\u001b[38;5;241;43m=\u001b[39;49m\u001b[38;5;124;43m'\u001b[39;49m\u001b[38;5;124;43mjson\u001b[39;49m\u001b[38;5;124;43m'\u001b[39;49m\u001b[43m,\u001b[49m\u001b[43m \u001b[49m\u001b[43m_preload_content\u001b[49m\u001b[38;5;241;43m=\u001b[39;49m\u001b[38;5;28;43;01mFalse\u001b[39;49;00m\u001b[43m,\u001b[49m\n\u001b[1;32m      4\u001b[0m \u001b[43m    \u001b[49m\u001b[43mquery_params\u001b[49m\u001b[43m \u001b[49m\u001b[38;5;241;43m=\u001b[39;49m\u001b[43m \u001b[49m\u001b[43m{\u001b[49m\n\u001b[1;32m      5\u001b[0m \u001b[43m        \u001b[49m\u001b[38;5;124;43m'\u001b[39;49m\u001b[38;5;124;43mconcierge-authenticator-type\u001b[39;49m\u001b[38;5;124;43m'\u001b[39;49m\u001b[43m:\u001b[49m\u001b[43m \u001b[49m\u001b[38;5;124;43m'\u001b[39;49m\u001b[38;5;124;43mjwt\u001b[39;49m\u001b[38;5;124;43m'\u001b[39;49m\u001b[43m,\u001b[49m\u001b[43m \u001b[49m\n\u001b[1;32m      6\u001b[0m \u001b[43m        \u001b[49m\u001b[38;5;124;43m'\u001b[39;49m\u001b[38;5;124;43mconcierge-authenticator-name\u001b[39;49m\u001b[38;5;124;43m'\u001b[39;49m\u001b[43m:\u001b[49m\u001b[43m \u001b[49m\u001b[38;5;124;43m'\u001b[39;49m\u001b[38;5;124;43mjwt-authenticator\u001b[39;49m\u001b[38;5;124;43m'\u001b[39;49m\u001b[43m,\u001b[49m\u001b[43m \u001b[49m\n\u001b[1;32m      7\u001b[0m \u001b[43m        \u001b[49m\u001b[38;5;124;43m'\u001b[39;49m\u001b[38;5;124;43moidc-client-id\u001b[39;49m\u001b[38;5;124;43m'\u001b[39;49m\u001b[43m:\u001b[49m\u001b[43m \u001b[49m\u001b[38;5;124;43m'\u001b[39;49m\u001b[38;5;124;43mdy4wrYqDLMcBgggBhThnSGvh8fqnz4ho\u001b[39;49m\u001b[38;5;124;43m'\u001b[39;49m\u001b[43m,\u001b[49m\u001b[43m \u001b[49m\n\u001b[1;32m      8\u001b[0m \u001b[43m        \u001b[49m\u001b[38;5;124;43m'\u001b[39;49m\u001b[38;5;124;43moidc-scopes\u001b[39;49m\u001b[38;5;124;43m'\u001b[39;49m\u001b[43m:\u001b[49m\u001b[43m \u001b[49m\u001b[38;5;124;43m'\u001b[39;49m\u001b[38;5;124;43mopenid,email\u001b[39;49m\u001b[38;5;124;43m'\u001b[39;49m\u001b[43m,\u001b[49m\u001b[43m \u001b[49m\n\u001b[1;32m      9\u001b[0m \u001b[43m        \u001b[49m\u001b[38;5;124;43m'\u001b[39;49m\u001b[38;5;124;43moidc-listen-port\u001b[39;49m\u001b[38;5;124;43m'\u001b[39;49m\u001b[43m:\u001b[49m\u001b[43m \u001b[49m\u001b[38;5;124;43m'\u001b[39;49m\u001b[38;5;124;43m12345\u001b[39;49m\u001b[38;5;124;43m'\u001b[39;49m\n\u001b[1;32m     10\u001b[0m \u001b[43m    \u001b[49m\u001b[43m}\u001b[49m\n\u001b[1;32m     11\u001b[0m \u001b[43m)\u001b[49m\n\u001b[1;32m     13\u001b[0m \u001b[38;5;28mprint\u001b[39m(json\u001b[38;5;241m.\u001b[39mloads(api_response[\u001b[38;5;241m0\u001b[39m]\u001b[38;5;241m.\u001b[39mread()\u001b[38;5;241m.\u001b[39mdecode(\u001b[38;5;124m\"\u001b[39m\u001b[38;5;124mutf-8\u001b[39m\u001b[38;5;124m\"\u001b[39m)))\n",
      "File \u001b[0;32m/usr/local/lib/python3.9/site-packages/kubernetes/client/api_client.py:348\u001b[0m, in \u001b[0;36mApiClient.call_api\u001b[0;34m(self, resource_path, method, path_params, query_params, header_params, body, post_params, files, response_type, auth_settings, async_req, _return_http_data_only, collection_formats, _preload_content, _request_timeout, _host)\u001b[0m\n\u001b[1;32m    311\u001b[0m \u001b[38;5;124;03m\"\"\"Makes the HTTP request (synchronous) and returns deserialized data.\u001b[39;00m\n\u001b[1;32m    312\u001b[0m \n\u001b[1;32m    313\u001b[0m \u001b[38;5;124;03mTo make an async_req request, set the async_req parameter.\u001b[39;00m\n\u001b[0;32m   (...)\u001b[0m\n\u001b[1;32m    345\u001b[0m \u001b[38;5;124;03m    then the method will return the response directly.\u001b[39;00m\n\u001b[1;32m    346\u001b[0m \u001b[38;5;124;03m\"\"\"\u001b[39;00m\n\u001b[1;32m    347\u001b[0m \u001b[38;5;28;01mif\u001b[39;00m \u001b[38;5;129;01mnot\u001b[39;00m async_req:\n\u001b[0;32m--> 348\u001b[0m     \u001b[38;5;28;01mreturn\u001b[39;00m \u001b[38;5;28;43mself\u001b[39;49m\u001b[38;5;241;43m.\u001b[39;49m\u001b[43m__call_api\u001b[49m\u001b[43m(\u001b[49m\u001b[43mresource_path\u001b[49m\u001b[43m,\u001b[49m\u001b[43m \u001b[49m\u001b[43mmethod\u001b[49m\u001b[43m,\u001b[49m\n\u001b[1;32m    349\u001b[0m \u001b[43m                           \u001b[49m\u001b[43mpath_params\u001b[49m\u001b[43m,\u001b[49m\u001b[43m \u001b[49m\u001b[43mquery_params\u001b[49m\u001b[43m,\u001b[49m\u001b[43m \u001b[49m\u001b[43mheader_params\u001b[49m\u001b[43m,\u001b[49m\n\u001b[1;32m    350\u001b[0m \u001b[43m                           \u001b[49m\u001b[43mbody\u001b[49m\u001b[43m,\u001b[49m\u001b[43m \u001b[49m\u001b[43mpost_params\u001b[49m\u001b[43m,\u001b[49m\u001b[43m \u001b[49m\u001b[43mfiles\u001b[49m\u001b[43m,\u001b[49m\n\u001b[1;32m    351\u001b[0m \u001b[43m                           \u001b[49m\u001b[43mresponse_type\u001b[49m\u001b[43m,\u001b[49m\u001b[43m \u001b[49m\u001b[43mauth_settings\u001b[49m\u001b[43m,\u001b[49m\n\u001b[1;32m    352\u001b[0m \u001b[43m                           \u001b[49m\u001b[43m_return_http_data_only\u001b[49m\u001b[43m,\u001b[49m\u001b[43m \u001b[49m\u001b[43mcollection_formats\u001b[49m\u001b[43m,\u001b[49m\n\u001b[1;32m    353\u001b[0m \u001b[43m                           \u001b[49m\u001b[43m_preload_content\u001b[49m\u001b[43m,\u001b[49m\u001b[43m \u001b[49m\u001b[43m_request_timeout\u001b[49m\u001b[43m,\u001b[49m\u001b[43m \u001b[49m\u001b[43m_host\u001b[49m\u001b[43m)\u001b[49m\n\u001b[1;32m    355\u001b[0m \u001b[38;5;28;01mreturn\u001b[39;00m \u001b[38;5;28mself\u001b[39m\u001b[38;5;241m.\u001b[39mpool\u001b[38;5;241m.\u001b[39mapply_async(\u001b[38;5;28mself\u001b[39m\u001b[38;5;241m.\u001b[39m__call_api, (resource_path,\n\u001b[1;32m    356\u001b[0m                                                method, path_params,\n\u001b[1;32m    357\u001b[0m                                                query_params,\n\u001b[0;32m   (...)\u001b[0m\n\u001b[1;32m    365\u001b[0m                                                _request_timeout,\n\u001b[1;32m    366\u001b[0m                                                _host))\n",
      "File \u001b[0;32m/usr/local/lib/python3.9/site-packages/kubernetes/client/api_client.py:180\u001b[0m, in \u001b[0;36mApiClient.__call_api\u001b[0;34m(self, resource_path, method, path_params, query_params, header_params, body, post_params, files, response_type, auth_settings, _return_http_data_only, collection_formats, _preload_content, _request_timeout, _host)\u001b[0m\n\u001b[1;32m    177\u001b[0m     url \u001b[38;5;241m=\u001b[39m _host \u001b[38;5;241m+\u001b[39m resource_path\n\u001b[1;32m    179\u001b[0m \u001b[38;5;66;03m# perform request and return response\u001b[39;00m\n\u001b[0;32m--> 180\u001b[0m response_data \u001b[38;5;241m=\u001b[39m \u001b[38;5;28;43mself\u001b[39;49m\u001b[38;5;241;43m.\u001b[39;49m\u001b[43mrequest\u001b[49m\u001b[43m(\u001b[49m\n\u001b[1;32m    181\u001b[0m \u001b[43m    \u001b[49m\u001b[43mmethod\u001b[49m\u001b[43m,\u001b[49m\u001b[43m \u001b[49m\u001b[43murl\u001b[49m\u001b[43m,\u001b[49m\u001b[43m \u001b[49m\u001b[43mquery_params\u001b[49m\u001b[38;5;241;43m=\u001b[39;49m\u001b[43mquery_params\u001b[49m\u001b[43m,\u001b[49m\u001b[43m \u001b[49m\u001b[43mheaders\u001b[49m\u001b[38;5;241;43m=\u001b[39;49m\u001b[43mheader_params\u001b[49m\u001b[43m,\u001b[49m\n\u001b[1;32m    182\u001b[0m \u001b[43m    \u001b[49m\u001b[43mpost_params\u001b[49m\u001b[38;5;241;43m=\u001b[39;49m\u001b[43mpost_params\u001b[49m\u001b[43m,\u001b[49m\u001b[43m \u001b[49m\u001b[43mbody\u001b[49m\u001b[38;5;241;43m=\u001b[39;49m\u001b[43mbody\u001b[49m\u001b[43m,\u001b[49m\n\u001b[1;32m    183\u001b[0m \u001b[43m    \u001b[49m\u001b[43m_preload_content\u001b[49m\u001b[38;5;241;43m=\u001b[39;49m\u001b[43m_preload_content\u001b[49m\u001b[43m,\u001b[49m\n\u001b[1;32m    184\u001b[0m \u001b[43m    \u001b[49m\u001b[43m_request_timeout\u001b[49m\u001b[38;5;241;43m=\u001b[39;49m\u001b[43m_request_timeout\u001b[49m\u001b[43m)\u001b[49m\n\u001b[1;32m    186\u001b[0m \u001b[38;5;28mself\u001b[39m\u001b[38;5;241m.\u001b[39mlast_response \u001b[38;5;241m=\u001b[39m response_data\n\u001b[1;32m    188\u001b[0m return_data \u001b[38;5;241m=\u001b[39m response_data\n",
      "File \u001b[0;32m/usr/local/lib/python3.9/site-packages/kubernetes/client/api_client.py:373\u001b[0m, in \u001b[0;36mApiClient.request\u001b[0;34m(self, method, url, query_params, headers, post_params, body, _preload_content, _request_timeout)\u001b[0m\n\u001b[1;32m    371\u001b[0m \u001b[38;5;124;03m\"\"\"Makes the HTTP request using RESTClient.\"\"\"\u001b[39;00m\n\u001b[1;32m    372\u001b[0m \u001b[38;5;28;01mif\u001b[39;00m method \u001b[38;5;241m==\u001b[39m \u001b[38;5;124m\"\u001b[39m\u001b[38;5;124mGET\u001b[39m\u001b[38;5;124m\"\u001b[39m:\n\u001b[0;32m--> 373\u001b[0m     \u001b[38;5;28;01mreturn\u001b[39;00m \u001b[38;5;28;43mself\u001b[39;49m\u001b[38;5;241;43m.\u001b[39;49m\u001b[43mrest_client\u001b[49m\u001b[38;5;241;43m.\u001b[39;49m\u001b[43mGET\u001b[49m\u001b[43m(\u001b[49m\u001b[43murl\u001b[49m\u001b[43m,\u001b[49m\n\u001b[1;32m    374\u001b[0m \u001b[43m                                \u001b[49m\u001b[43mquery_params\u001b[49m\u001b[38;5;241;43m=\u001b[39;49m\u001b[43mquery_params\u001b[49m\u001b[43m,\u001b[49m\n\u001b[1;32m    375\u001b[0m \u001b[43m                                \u001b[49m\u001b[43m_preload_content\u001b[49m\u001b[38;5;241;43m=\u001b[39;49m\u001b[43m_preload_content\u001b[49m\u001b[43m,\u001b[49m\n\u001b[1;32m    376\u001b[0m \u001b[43m                                \u001b[49m\u001b[43m_request_timeout\u001b[49m\u001b[38;5;241;43m=\u001b[39;49m\u001b[43m_request_timeout\u001b[49m\u001b[43m,\u001b[49m\n\u001b[1;32m    377\u001b[0m \u001b[43m                                \u001b[49m\u001b[43mheaders\u001b[49m\u001b[38;5;241;43m=\u001b[39;49m\u001b[43mheaders\u001b[49m\u001b[43m)\u001b[49m\n\u001b[1;32m    378\u001b[0m \u001b[38;5;28;01melif\u001b[39;00m method \u001b[38;5;241m==\u001b[39m \u001b[38;5;124m\"\u001b[39m\u001b[38;5;124mHEAD\u001b[39m\u001b[38;5;124m\"\u001b[39m:\n\u001b[1;32m    379\u001b[0m     \u001b[38;5;28;01mreturn\u001b[39;00m \u001b[38;5;28mself\u001b[39m\u001b[38;5;241m.\u001b[39mrest_client\u001b[38;5;241m.\u001b[39mHEAD(url,\n\u001b[1;32m    380\u001b[0m                                  query_params\u001b[38;5;241m=\u001b[39mquery_params,\n\u001b[1;32m    381\u001b[0m                                  _preload_content\u001b[38;5;241m=\u001b[39m_preload_content,\n\u001b[1;32m    382\u001b[0m                                  _request_timeout\u001b[38;5;241m=\u001b[39m_request_timeout,\n\u001b[1;32m    383\u001b[0m                                  headers\u001b[38;5;241m=\u001b[39mheaders)\n",
      "File \u001b[0;32m/usr/local/lib/python3.9/site-packages/kubernetes/client/rest.py:240\u001b[0m, in \u001b[0;36mRESTClientObject.GET\u001b[0;34m(self, url, headers, query_params, _preload_content, _request_timeout)\u001b[0m\n\u001b[1;32m    238\u001b[0m \u001b[38;5;28;01mdef\u001b[39;00m \u001b[38;5;21mGET\u001b[39m(\u001b[38;5;28mself\u001b[39m, url, headers\u001b[38;5;241m=\u001b[39m\u001b[38;5;28;01mNone\u001b[39;00m, query_params\u001b[38;5;241m=\u001b[39m\u001b[38;5;28;01mNone\u001b[39;00m, _preload_content\u001b[38;5;241m=\u001b[39m\u001b[38;5;28;01mTrue\u001b[39;00m,\n\u001b[1;32m    239\u001b[0m         _request_timeout\u001b[38;5;241m=\u001b[39m\u001b[38;5;28;01mNone\u001b[39;00m):\n\u001b[0;32m--> 240\u001b[0m     \u001b[38;5;28;01mreturn\u001b[39;00m \u001b[38;5;28;43mself\u001b[39;49m\u001b[38;5;241;43m.\u001b[39;49m\u001b[43mrequest\u001b[49m\u001b[43m(\u001b[49m\u001b[38;5;124;43m\"\u001b[39;49m\u001b[38;5;124;43mGET\u001b[39;49m\u001b[38;5;124;43m\"\u001b[39;49m\u001b[43m,\u001b[49m\u001b[43m \u001b[49m\u001b[43murl\u001b[49m\u001b[43m,\u001b[49m\n\u001b[1;32m    241\u001b[0m \u001b[43m                        \u001b[49m\u001b[43mheaders\u001b[49m\u001b[38;5;241;43m=\u001b[39;49m\u001b[43mheaders\u001b[49m\u001b[43m,\u001b[49m\n\u001b[1;32m    242\u001b[0m \u001b[43m                        \u001b[49m\u001b[43m_preload_content\u001b[49m\u001b[38;5;241;43m=\u001b[39;49m\u001b[43m_preload_content\u001b[49m\u001b[43m,\u001b[49m\n\u001b[1;32m    243\u001b[0m \u001b[43m                        \u001b[49m\u001b[43m_request_timeout\u001b[49m\u001b[38;5;241;43m=\u001b[39;49m\u001b[43m_request_timeout\u001b[49m\u001b[43m,\u001b[49m\n\u001b[1;32m    244\u001b[0m \u001b[43m                        \u001b[49m\u001b[43mquery_params\u001b[49m\u001b[38;5;241;43m=\u001b[39;49m\u001b[43mquery_params\u001b[49m\u001b[43m)\u001b[49m\n",
      "File \u001b[0;32m/usr/local/lib/python3.9/site-packages/kubernetes/client/rest.py:234\u001b[0m, in \u001b[0;36mRESTClientObject.request\u001b[0;34m(self, method, url, query_params, headers, body, post_params, _preload_content, _request_timeout)\u001b[0m\n\u001b[1;32m    231\u001b[0m     logger\u001b[38;5;241m.\u001b[39mdebug(\u001b[38;5;124m\"\u001b[39m\u001b[38;5;124mresponse body: \u001b[39m\u001b[38;5;132;01m%s\u001b[39;00m\u001b[38;5;124m\"\u001b[39m, r\u001b[38;5;241m.\u001b[39mdata)\n\u001b[1;32m    233\u001b[0m \u001b[38;5;28;01mif\u001b[39;00m \u001b[38;5;129;01mnot\u001b[39;00m \u001b[38;5;241m200\u001b[39m \u001b[38;5;241m<\u001b[39m\u001b[38;5;241m=\u001b[39m r\u001b[38;5;241m.\u001b[39mstatus \u001b[38;5;241m<\u001b[39m\u001b[38;5;241m=\u001b[39m \u001b[38;5;241m299\u001b[39m:\n\u001b[0;32m--> 234\u001b[0m     \u001b[38;5;28;01mraise\u001b[39;00m ApiException(http_resp\u001b[38;5;241m=\u001b[39mr)\n\u001b[1;32m    236\u001b[0m \u001b[38;5;28;01mreturn\u001b[39;00m r\n",
      "\u001b[0;31mApiException\u001b[0m: (404)\nReason: Not Found\nHTTP response headers: HTTPHeaderDict({'Audit-Id': 'cf86832b-93dc-4aba-af46-40285ba0a407', 'Cache-Control': 'no-cache, private', 'Content-Type': 'application/json', 'X-Kubernetes-Pf-Flowschema-Uid': 'b482d70b-591b-4084-a402-543dcdf508ba', 'X-Kubernetes-Pf-Prioritylevel-Uid': 'a5bc4bf9-fbc2-4eeb-a56a-adbd45767f54', 'Date': 'Thu, 24 Feb 2022 20:03:34 GMT', 'Content-Length': '228'})\nHTTP response body: b'{\"kind\":\"Status\",\"apiVersion\":\"v1\",\"metadata\":{},\"status\":\"Failure\",\"message\":\"services \\\\\"pinniped-concierge-api:443\\\\\" not found\",\"reason\":\"NotFound\",\"details\":{\"name\":\"pinniped-concierge-api:443\",\"kind\":\"services\"},\"code\":404}\\n'\n"
     ]
    }
   ],
   "source": [
    "api_response = client_corev1api_region.api_client.call_api(\n",
    "    '/api/v1/namespaces/pinniped-concierge/services/pinniped-concierge-api:443/', 'GET',\n",
    "    auth_settings = ['BearerToken'], response_type='json', _preload_content=False,\n",
    "    query_params = {\n",
    "        'concierge-authenticator-type': 'jwt', \n",
    "        'concierge-authenticator-name': 'jwt-authenticator', \n",
    "        'oidc-client-id': 'dy4wrYqDLMcBgggBhThnSGvh8fqnz4ho', \n",
    "        'oidc-scopes': 'openid,email', \n",
    "        'oidc-listen-port': '12345'\n",
    "    }\n",
    ")\n",
    "\n",
    "print(json.loads(api_response[0].read().decode(\"utf-8\")))"
   ]
  },
  {
   "cell_type": "code",
   "execution_count": null,
   "id": "e47fdf2c",
   "metadata": {},
   "outputs": [],
   "source": [
    "    \n",
    "\n",
    "    try:\n",
    "        api_response = client_corev1api_region.api_client.call_api(\n",
    "            '/api/v1/namespaces/kubecost/services/kubecost-cost-analyzer:9090/proxy/model/allocation', 'GET',\n",
    "            auth_settings = ['BearerToken'], response_type='json', _preload_content=False,\n",
    "            query_params = {\n",
    "                'window': project_item.time_window, \n",
    "                'aggregate': 'namespace', \n",
    "                'accumulate': project_item.accumulate, \n",
    "                'shareIdle': 'true', \n",
    "                'sharedNamespaces': 'kube-system', \n",
    "                'filterNamespaces': project_item.name\n",
    "            }\n",
    "        )\n",
    "\n",
    "        response_decoded = json.loads(api_response[0].read().decode(\"utf-8\"))\n"
   ]
  }
 ],
 "metadata": {
  "kernelspec": {
   "display_name": "Python 3 (ipykernel)",
   "language": "python",
   "name": "python3"
  },
  "language_info": {
   "codemirror_mode": {
    "name": "ipython",
    "version": 3
   },
   "file_extension": ".py",
   "mimetype": "text/x-python",
   "name": "python",
   "nbconvert_exporter": "python",
   "pygments_lexer": "ipython3",
   "version": "3.9.9"
  }
 },
 "nbformat": 4,
 "nbformat_minor": 5
}
